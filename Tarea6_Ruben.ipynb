{
 "cells": [
  {
   "cell_type": "markdown",
   "metadata": {
    "slideshow": {
     "slide_type": "slide"
    }
   },
   "source": [
    "# Tarea 6: Integración con Taylor"
   ]
  },
  {
   "cell_type": "markdown",
   "metadata": {
    "slideshow": {
     "slide_type": "slide"
    }
   },
   "source": [
    "Fecha de envío del PR inicial: **viernes 5 de mayo**\n",
    "\n",
    "Fecha de aceptación del PR: **martes 16 de mayo, antes de la clase**"
   ]
  },
  {
   "cell_type": "markdown",
   "metadata": {
    "slideshow": {
     "slide_type": "skip"
    }
   },
   "source": [
    "---"
   ]
  },
  {
   "cell_type": "markdown",
   "metadata": {
    "slideshow": {
     "slide_type": "slide"
    }
   },
   "source": [
    "## Ejercicio 1\n",
    "\n",
    "Usando su implementación de polinomios de Taylor, escriban un integrador para la ecuación diferencial que se desarrolló en este ejemplo, esto es, $\\dot{x} = x^2$ con la condición inicial $x(0) = 3$. \n",
    "\n",
    "El integrador debe hacer las operaciones necesarias para obtener automáticamente los coeficientes $x_{[k]}$, *en cada paso de integración*, a partir de la condición inicial local. Un requisito básico para esto es que tengan una implementación de la función $P_\\alpha(x) = [g(x)]^\\alpha$ con $g(x)$ un polinomio de Taylor, que hicieron en la \"Tarea5\", y que funcione bien en particular para `alpha::Int`.\n",
    "\n",
    "La implementación debe consistir de varias funciones: \n",
    "\n",
    "1. Una función donde se calculen los coeficientes $x_{[k]}$ de la expansión. Esta función deberá llamar a otra donde se implementan las recurrencias que imponen las ecuaciones de movimiento.\n",
    "\n",
    "2. Una función donde se obtenga el paso de integración $h$ como se describió en el notebook 10.\n",
    "\n",
    "- Otra función donde se haga la suma usando el método de Horner.\n",
    "\n",
    "- Finalmente, una función que combine las funciones anteriores para hacer la integración desde un tiempo inicial a uno final. En este punto, *fingiremos ignorancia*, en el sentido de  que el tiempo inicial es cero, y el tiempo final será $0.5$ (que está más allá de donde la solución está definida).\n"
   ]
  },
  {
   "cell_type": "markdown",
   "metadata": {},
   "source": [
    "Dado que conocemos la solución analítica de este problema, grafiquen como función de $t$ el error relativo de su integrador (respecto al valor del resultado analítico)."
   ]
  },
  {
   "cell_type": "code",
   "execution_count": 1,
   "metadata": {
    "collapsed": false
   },
   "outputs": [],
   "source": [
    "include(\"Taylor.jl\")\n",
    "using ADT\n",
    "using PyPlot"
   ]
  },
  {
   "cell_type": "code",
   "execution_count": 2,
   "metadata": {
    "collapsed": false
   },
   "outputs": [
    {
     "data": {
      "text/plain": [
       "ẋ (generic function with 1 method)"
      ]
     },
     "execution_count": 2,
     "metadata": {},
     "output_type": "execute_result"
    }
   ],
   "source": [
    "ẋ(t, x) = x^2"
   ]
  },
  {
   "cell_type": "markdown",
   "metadata": {},
   "source": [
    "1. Utilizando que \n",
    "\n",
    "\\begin{equation}\n",
    "x_{[k]} = \\frac{f_{[k-1]}}{k},\n",
    "\\end{equation}\n",
    "   podemos definir una funcion que encuentre de manera iterativa los coeficientes de $x(t)$"
   ]
  },
  {
   "cell_type": "code",
   "execution_count": 3,
   "metadata": {
    "collapsed": false
   },
   "outputs": [
    {
     "data": {
      "text/plain": [
       "coeficient (generic function with 2 methods)"
      ]
     },
     "execution_count": 3,
     "metadata": {},
     "output_type": "execute_result"
    }
   ],
   "source": [
    "function coeficient(t::Real, x0::Number, f::Function, n = 30)\n",
    "    ## n fue escogido de manera arbitraria, 30 parece un buen numero\n",
    "    a = [x0]\n",
    "    \n",
    "    for k = 1:(n - 1) ## usar n - 1 nos deja con un polinomio de grado n ya que se utiliza el valor de x0\n",
    "        iter = f(t, Taylor(a))\n",
    "        push!(a, iter.coef[k] / (k))\n",
    "    end\n",
    "    \n",
    "    return Taylor(a)\n",
    "end"
   ]
  },
  {
   "cell_type": "code",
   "execution_count": 4,
   "metadata": {
    "collapsed": false
   },
   "outputs": [
    {
     "data": {
      "text/plain": [
       "ADT.Taylor{Float64}([3.0,9.0,27.0,81.0,243.0])"
      ]
     },
     "execution_count": 4,
     "metadata": {},
     "output_type": "execute_result"
    }
   ],
   "source": [
    "x_t = coeficient(0.0, 3.0, ẋ, 5)"
   ]
  },
  {
   "cell_type": "markdown",
   "metadata": {},
   "source": [
    "Como vemos la solucion cumple con lo obtenido analiticamente, esto es\n",
    "$x_0 = 3^1$, $x_1 = 3^2$, $x_2 = 3^3$, ... , $x_n = 3^{n+1}$, "
   ]
  },
  {
   "cell_type": "markdown",
   "metadata": {},
   "source": [
    "Ahora necesitamos una funcion que determine el paso de integracion adaptativo\n",
    "\n",
    "Utilizamos\n",
    "\n",
    "\\begin{equation}\n",
    "h = t-t_0 \\leq \\Big(\\frac{\\epsilon}{\\big| x_{[p]}(t_0)\\big|}\\Big)^{1/p}.\n",
    "\\end{equation}\n",
    "\n",
    "Condicion que brinda la convergencia de la serie de potencia $p$"
   ]
  },
  {
   "cell_type": "code",
   "execution_count": 5,
   "metadata": {
    "collapsed": false
   },
   "outputs": [
    {
     "data": {
      "text/plain": [
       "adaptive_step (generic function with 2 methods)"
      ]
     },
     "execution_count": 5,
     "metadata": {},
     "output_type": "execute_result"
    }
   ],
   "source": [
    "function adaptive_step(a::Taylor, epsi::Real = 1e-30)\n",
    "    p = gradomax(a)\n",
    "    \n",
    "    while a.coef[p] == 0 ## Se encarga de terminos nulos.\n",
    "        p -= 1\n",
    "    end\n",
    "    \n",
    "    h1 = 0.5 * (epsi / abs(a.coef[p - 0]))^(1 / (p - 0)) ## Multiplicar por 0.5 nos garantiza que es menor que la cota\n",
    "    h2 = 0.5 * (epsi / abs(a.coef[p - 1]))^(1 / (p - 1)) ## Multiplicar por 0.5 nos garantiza que es menor que la cota\n",
    "    h3 = 0.5 * (epsi / abs(a.coef[p - 2]))^(1 / (p - 2)) ## Multiplicar por 0.5 nos garantiza que es menor que la cota\n",
    "    \n",
    "    h = min(h1, h2, h3)\n",
    "    \n",
    "    return h\n",
    "end"
   ]
  },
  {
   "cell_type": "code",
   "execution_count": 6,
   "metadata": {
    "collapsed": false,
    "scrolled": false
   },
   "outputs": [
    {
     "data": {
      "text/plain": [
       "1.666666666666669e-11"
      ]
     },
     "execution_count": 6,
     "metadata": {},
     "output_type": "execute_result"
    }
   ],
   "source": [
    "adaptive_step(x_t)"
   ]
  },
  {
   "cell_type": "markdown",
   "metadata": {},
   "source": [
    "Ahora definimos una funcion que utilice el metodo de Horner para valuar el polinomio."
   ]
  },
  {
   "cell_type": "code",
   "execution_count": 7,
   "metadata": {
    "collapsed": false
   },
   "outputs": [
    {
     "data": {
      "text/plain": [
       "horner_evaluation (generic function with 1 method)"
      ]
     },
     "execution_count": 7,
     "metadata": {},
     "output_type": "execute_result"
    }
   ],
   "source": [
    "function horner_evaluation(a::Taylor, x0::Number)\n",
    "    n = gradomax(a)\n",
    "    y = a.coef[n]\n",
    "    \n",
    "    for i = 1:(n - 1)\n",
    "        y = a.coef[n - i] + y * x0\n",
    "    end\n",
    "    \n",
    "    return y\n",
    "end"
   ]
  },
  {
   "cell_type": "code",
   "execution_count": 19,
   "metadata": {
    "collapsed": false
   },
   "outputs": [
    {
     "data": {
      "text/plain": [
       "3.0"
      ]
     },
     "execution_count": 19,
     "metadata": {},
     "output_type": "execute_result"
    }
   ],
   "source": [
    "horner_evaluation(x_t, 0)"
   ]
  },
  {
   "cell_type": "markdown",
   "metadata": {},
   "source": [
    "Por ultimo definimos una funcion que combina las funciones anteriores de manera que haga la integracion de un tiempo $t_0$ a un $t_f$"
   ]
  },
  {
   "cell_type": "code",
   "execution_count": 9,
   "metadata": {
    "collapsed": false
   },
   "outputs": [
    {
     "data": {
      "text/plain": [
       "integradorT (generic function with 2 methods)"
      ]
     },
     "execution_count": 9,
     "metadata": {},
     "output_type": "execute_result"
    }
   ],
   "source": [
    "function integradorT(f::Function, t0::Number, tf::Number, x0::Number, n::Number = 30)\n",
    "    \n",
    "    max = 10000 ## Iteraciones maximas del while\n",
    "    \n",
    "    tiempos = [t0]\n",
    "    solucion = [x0]\n",
    "\n",
    "    m = 0 ## Contador\n",
    "\n",
    "    while t0 < tf && m < max  ## el isnan() y el isinf() nos ayuda a parar la integracion al pasar por un punto singular\n",
    "        \n",
    "        sol = coeficient(t0, x0, f, n)\n",
    "        h = adaptive_step(sol)\n",
    "        \n",
    "        t0 += h\n",
    "        \n",
    "        x0 = horner_evaluation(sol, h)\n",
    "        \n",
    "        if isnan(x0) ## 0/0\n",
    "            println(\"Encontrada singularidad en $t0\")\n",
    "            break\n",
    "            \n",
    "        elseif isinf(x0) ## 1/0\n",
    "            println(\"Encontrada singularidad en $t0\")\n",
    "            break\n",
    "            \n",
    "        end\n",
    "\n",
    "        push!(tiempos, t0)\n",
    "        push!(solucion, x0)\n",
    "\n",
    "        m += 1\n",
    "\n",
    "    end\n",
    "    \n",
    "    return tiempos, solucion\n",
    "end"
   ]
  },
  {
   "cell_type": "markdown",
   "metadata": {},
   "source": [
    "Probamos el integrador con el ejemplo"
   ]
  },
  {
   "cell_type": "code",
   "execution_count": 10,
   "metadata": {
    "collapsed": false
   },
   "outputs": [
    {
     "data": {
      "text/plain": [
       "f (generic function with 1 method)"
      ]
     },
     "execution_count": 10,
     "metadata": {},
     "output_type": "execute_result"
    }
   ],
   "source": [
    "f(x) = 3.0 / (1.0 - 3.0 * x) ## Solucion analitica"
   ]
  },
  {
   "cell_type": "code",
   "execution_count": 11,
   "metadata": {
    "collapsed": false
   },
   "outputs": [],
   "source": [
    "t_1, y = integradorT(ẋ, 0.0, 0.5, 3.0, 30)\n",
    "F_T = map(f, t_1);"
   ]
  },
  {
   "cell_type": "code",
   "execution_count": 25,
   "metadata": {
    "collapsed": false,
    "scrolled": false
   },
   "outputs": [
    {
     "data": {
      "image/png": "[encoded data removed]",
      "text/plain": [
       "PyPlot.Figure(PyObject <matplotlib.figure.Figure object at 0x7fcf62463c50>)"
      ]
     },
     "metadata": {},
     "output_type": "display_data"
    },
    {
     "data": {
      "text/plain": [
       "PyObject <matplotlib.text.Text object at 0x7fcf61d47a58>"
      ]
     },
     "execution_count": 25,
     "metadata": {},
     "output_type": "execute_result"
    }
   ],
   "source": [
    "fig = figure(figsize = (10, 8))\n",
    "\n",
    "ax = subplot(211); bx = subplot(212)\n",
    "\n",
    "ax[:plot](t_1, y, label  = \"Numerico\")\n",
    "ax[:plot](t_1, map(f, t_1), label = \"Analitico\")\n",
    "ax[:set_ylim](-1, 100)\n",
    "\n",
    "err_T = abs(F_T - y)\n",
    "\n",
    "bx[:loglog](t_1, err_T)\n",
    "bx[:grid]()\n",
    "bx[:set_ylim](0, 0.5)\n",
    "\n",
    "ax[:legend](); ax[:grid]()\n",
    "ax[:set_xlabel](\"tiempo\"); ax[:set_ylabel](\"x(t)\")\n",
    "bx[:set_xlabel](\"tiempo\"); bx[:set_ylabel](\"log(error)\")"
   ]
  },
  {
   "cell_type": "markdown",
   "metadata": {},
   "source": [
    "Podemos ver que el error en el calculo se vuelve grande al acercarnos a la singularidad en $t = \\frac{1}{3}$"
   ]
  },
  {
   "cell_type": "markdown",
   "metadata": {},
   "source": [
    "---"
   ]
  },
  {
   "cell_type": "markdown",
   "metadata": {},
   "source": [
    "## Ejercicio 2\n",
    "\n",
    "Repitan la integración del ejercicio anterior usando el método de Runge-Kutta de 4o orden con paso de integración fijo (que es lo más sofisticado que conocen hasta ahora) y comparen los resultados del error relativo con los obtenidos con el método de Taylor. En particular, finjan ignorancia de la misma manera que en el ejercicio anterior."
   ]
  },
  {
   "cell_type": "markdown",
   "metadata": {
    "collapsed": true
   },
   "source": [
    "Comenzamos por definir el integrador de Runge-Kutta"
   ]
  },
  {
   "cell_type": "code",
   "execution_count": 27,
   "metadata": {
    "collapsed": false
   },
   "outputs": [
    {
     "data": {
      "text/plain": [
       "RK4 (generic function with 2 methods)"
      ]
     },
     "execution_count": 27,
     "metadata": {},
     "output_type": "execute_result"
    }
   ],
   "source": [
    "function RK4(f::Function, x0::Real, t0::Real, p::Integer)\n",
    "\n",
    "    x = zeros(p + 1) #inicializar el array solución con el mayor sobre tipo común al de x_0 y Float64 \n",
    "    h = (tf - t0) / p\n",
    "    x[1] = x0\n",
    "    t = t0\n",
    "    \n",
    "    for i in 1:p\n",
    "        \n",
    "        k1 = f(t, x[i])\n",
    "        k2 = f(t + h / 2, x[i] + h * k1 / 2)\n",
    "        k3 = f(t + h / 2, x[i] + h * k2 / 2)\n",
    "        k4 = f(t + h, x[i] + h * k3)\n",
    "         \n",
    "        x[i + 1] = x[i] + (h / 6) * (k1 + 2 * k2 + 2 * k3 + k4)\n",
    "        \n",
    "        t += h\n",
    "    end\n",
    "    \n",
    "    return x\n",
    "end"
   ]
  },
  {
   "cell_type": "code",
   "execution_count": 28,
   "metadata": {
    "collapsed": false
   },
   "outputs": [],
   "source": [
    "x0 = 3.0\n",
    "t0 = 0\n",
    "tf = 0.5\n",
    "p  = 5000\n",
    "\n",
    "\n",
    "x = RK4(ẋ, x0, t0, p)\n",
    "t_2 = linspace(t0, tf, length(x))\n",
    "F_RK4 = map(f, t_2)\n",
    "err_RK4 = abs(F_RK4 - x);"
   ]
  },
  {
   "cell_type": "code",
   "execution_count": 29,
   "metadata": {
    "collapsed": false
   },
   "outputs": [
    {
     "data": {
      "image/png": "[encoded data removed]",
      "text/plain": [
       "PyPlot.Figure(PyObject <matplotlib.figure.Figure object at 0x7fcf61e1a208>)"
      ]
     },
     "metadata": {},
     "output_type": "display_data"
    },
    {
     "data": {
      "text/plain": [
       "PyObject <matplotlib.text.Text object at 0x7fcf61b3f9e8>"
      ]
     },
     "execution_count": 29,
     "metadata": {},
     "output_type": "execute_result"
    }
   ],
   "source": [
    "fig = figure(figsize = (10, 8))\n",
    "\n",
    "ax = subplot(211); bx = subplot(212)\n",
    "\n",
    "ax[:plot](t_2, x, label  = \"Numerico\")\n",
    "ax[:plot](t_2, map(f, t_2), label = \"Analitico\")\n",
    "ax[:set_ylim](-1, 100)\n",
    "\n",
    "\n",
    "bx[:loglog](t_2, err_RK4)\n",
    "bx[:grid]()\n",
    "bx[:set_ylim](0, 0.5)\n",
    "\n",
    "ax[:legend](); ax[:grid]()\n",
    "ax[:set_xlabel](\"tiempo\"); ax[:set_ylabel](\"x(t)\")\n",
    "bx[:set_xlabel](\"tiempo\"); bx[:set_ylabel](\"log(error)\")"
   ]
  },
  {
   "cell_type": "code",
   "execution_count": 30,
   "metadata": {
    "collapsed": false,
    "scrolled": false
   },
   "outputs": [
    {
     "data": {
      "image/png": "[encoded data removed]",
      "text/plain": [
       "PyPlot.Figure(PyObject <matplotlib.figure.Figure object at 0x7fcf61b3f550>)"
      ]
     },
     "metadata": {},
     "output_type": "display_data"
    },
    {
     "data": {
      "text/plain": [
       "PyObject <matplotlib.legend.Legend object at 0x7fcf61b74080>"
      ]
     },
     "execution_count": 30,
     "metadata": {},
     "output_type": "execute_result"
    }
   ],
   "source": [
    "loglog(t_1, err_T, label = \"Taylor\")\n",
    "loglog(t_2, err_RK4, label = \"RK4\")\n",
    "ylim(0, 1e-4)\n",
    "grid()\n",
    "legend()"
   ]
  },
  {
   "cell_type": "markdown",
   "metadata": {},
   "source": [
    "Podemos ver que el integrador de Taylor tiene una mejor convergencia que RK4"
   ]
  },
  {
   "cell_type": "markdown",
   "metadata": {},
   "source": [
    "---"
   ]
  },
  {
   "cell_type": "markdown",
   "metadata": {},
   "source": [
    "## Ejercicio 3\n",
    "\n",
    "Integra la ecuación de movimiento para el oscilador armónico, $\\ddot{x} = -2x$, con $x(0)=2$, $\\dot{x}(0)=0$, durante 10^4 periodos de oscilación (o sea, hasta $t_f = 10^4 \\cdot 2\\pi/\\sqrt{2}$, usando el método de Taylor y el método de Runge-Kutta de 4o orden con paso de integración constante. Compara cómo cambia la energía (respecto al valor al tiempo cero) en función del tiempo en ambos métodos."
   ]
  },
  {
   "cell_type": "markdown",
   "metadata": {
    "collapsed": true
   },
   "source": [
    "Para resolver el sistema podemos hacer el siguiente cambio de variable\n",
    "\n",
    "\n",
    "\\begin{eqnarray}\n",
    "\\dot{x} & = &  y\\\\\n",
    "\\dot{y} & = & -2x\n",
    "\\end{eqnarray}\n",
    "\n",
    "y utilizamos las condiciones iniciales $x(0) = 2$ y $y(0) = 0$"
   ]
  },
  {
   "cell_type": "markdown",
   "metadata": {},
   "source": [
    "Necesitamos una funcion que realize de manera automatica y simultanea el calculo de los coeficientes"
   ]
  },
  {
   "cell_type": "code",
   "execution_count": null,
   "metadata": {
    "collapsed": false
   },
   "outputs": [],
   "source": [
    "function coeficient2(t, ẋ0::Number, f::Function, n = 30)\n",
    "    ## n fue escogido de manera arbitraria, 30 parece un buen numero\n",
    "    X = [ẋ0[1]]\n",
    "    Y = [ẋ0[2]]\n",
    "\n",
    "    for k = 1:(n - 1) ## usar n - 1 nos deja con un polinomio de grado n ya que se utiliza el valor de x0\n",
    "        iter = f(Taylor(X))\n",
    "\n",
    "        push!(Y, iter.coef[k]/(k))\n",
    "        push!(X, Y[k]/(k))\n",
    "\n",
    "    end\n",
    "    \n",
    "    return Taylor(X), Taylor(Y)\n",
    "end\n",
    "\n",
    "function coeficient(t::Real, x0::Number, f::Function, n = 30)\n",
    "    ## n fue escogido de manera arbitraria, 30 parece un buen numero\n",
    "    a = [x0]\n",
    "    \n",
    "    for k = 1:(n - 1) ## usar n - 1 nos deja con un polinomio de grado n ya que se utiliza el valor de x0\n",
    "        iter = f(t, Taylor(a))\n",
    "        push!(a, iter.coef[k] / (k))\n",
    "    end\n",
    "    \n",
    "    return Taylor(a)\n",
    "end"
   ]
  },
  {
   "cell_type": "code",
   "execution_count": null,
   "metadata": {
    "collapsed": false,
    "scrolled": false
   },
   "outputs": [],
   "source": [
    "function integradorT2(f::Function, t0::Number, tf::Number, x0::Number, y0::Number)\n",
    "    \n",
    "    max = 1000 ## Iteraciones maximas del while\n",
    "    \n",
    "    tiempos = [t0]\n",
    "    X = [x0]\n",
    "    Y = [y0]\n",
    "    \n",
    "    n = 0 ## Contador\n",
    "\n",
    "    while t0 < tf && isnan(x0) == false && n < max  ## el isnan() nos ayuda a parar la integracion al pasar por nu punto singular\n",
    "        \n",
    "        solX, solY = coeficient2(x0, y0, f)\n",
    "        hx = adaptive_step(solX)\n",
    "        hy = adaptive_step(solY)\n",
    "          \n",
    "        h = min(hx, hy)\n",
    "        \n",
    "        t0 += h\n",
    "        \n",
    "        x0 = horner_evaluation(solX, h)\n",
    "        y0 = horner_evaluation(solY, h)\n",
    "\n",
    "        push!(tiempos, t0)\n",
    "        push!(X, x0)\n",
    "        push!(Y, y0)\n",
    "\n",
    "        n += 1\n",
    "        \n",
    "    end\n",
    "    \n",
    "    return tiempos, X, Y\n",
    "end"
   ]
  },
  {
   "cell_type": "markdown",
   "metadata": {},
   "source": [
    "Necesitamos un integrador de RK4 para el sistema"
   ]
  },
  {
   "cell_type": "code",
   "execution_count": null,
   "metadata": {
    "collapsed": false
   },
   "outputs": [],
   "source": [
    "function RK4_2(f::Function, g::Function, x0::Real, y0::Real, t0::Real, h::Real, p::Integer)\n",
    "   \n",
    "    x = zeros(typeof(promote(x0,1.5)[1]), p + 1) #inicializar el array solución con el mayor sobre tipo común al de x_0 y Float64 \n",
    "    y = zeros(typeof(promote(y0,1.5)[1]), p + 1)\n",
    "    \n",
    "    x[1] = x0\n",
    "    y[1] = y0\n",
    "    \n",
    "    t = t0\n",
    "    \n",
    "    for i in 1:p\n",
    "        \n",
    "        k1 = f(t, x[i], y[i])\n",
    "        l1 = g(t, x[i], y[i])\n",
    "        \n",
    "        k2 = f(t + h / 2, x[i] + h * k1 / 2, y[i] + h *l1 / 2)\n",
    "        l2 = g(t + h / 2, x[i] + h * k1 / 2, y[i] + h *l1 / 2)\n",
    "        \n",
    "        k3 = f(t + h / 2, x[i] + h * k2 / 2, y[i] + h *l2 / 2)\n",
    "        l3 = g(t + h / 2, x[i] + h * k2 / 2, y[i] + h *l2 / 2)\n",
    "        \n",
    "        k4 = f(t + h, x[i] + h * k3, y[i] + h * l3)\n",
    "        l4 = g(t + h, x[i] + h * k3, y[i] + h * l3)\n",
    "         \n",
    "        x[i + 1] = x[i] + (h / 6) * (k1 + 2 * k2 + 2 * k3 + k4)\n",
    "        y[i + 1] = y[i] + (h / 6) * (l1 + 2 * l2 + 2 * l3 + l4)\n",
    "        \n",
    "        t += h\n",
    "    end\n",
    "    return x, y\n",
    "end"
   ]
  },
  {
   "cell_type": "markdown",
   "metadata": {},
   "source": [
    "Por ultimo, necesitamos una funcion que nos de la energia del sistema, dada por \n",
    "\n",
    "$$ E = \\frac{1}{2} y^2 + x^2$$\n",
    "\n",
    "Utilizando las condiciones iniciales tenemos\n",
    "\n",
    "$$ E_0 = \\frac{1}{2}(y(0))^2 + (x(0))^2$$\n",
    "$$ E_0 = \\frac{1}{2}(0)^2 + (2)^2 = 4$$"
   ]
  },
  {
   "cell_type": "code",
   "execution_count": null,
   "metadata": {
    "collapsed": false
   },
   "outputs": [],
   "source": [
    "E(x, y) = 0.5 * (y ^ 2) + x ^ 2\n",
    "Ẋ(t, x, y) = y\n",
    "Ẏ(t, x, y) = - 2 * x"
   ]
  },
  {
   "cell_type": "code",
   "execution_count": null,
   "metadata": {
    "collapsed": false
   },
   "outputs": [],
   "source": [
    "x0 = 2.0\n",
    "y0 = 0.0\n",
    "t0 = 0.0\n",
    "tf = 10^4 * (2 * pi / sqrt(2))\n",
    "p = 10000\n",
    "\n",
    "h = (tf - t0) / p\n",
    "\n",
    "T1, X1, Y1 = integradorT2(x -> - 2 * x, t0, tf, x0, y0)\n",
    "E_T = E.(X1, Y1);\n",
    "\n",
    "X2, Y2 = RK4_2(Ẋ, Ẏ , x0, y0, t0, h, p)\n",
    "T2 = linspace(t0, tf, length(X1))\n",
    "E_RK4 = E.(X2, Y2);"
   ]
  },
  {
   "cell_type": "code",
   "execution_count": null,
   "metadata": {
    "collapsed": false
   },
   "outputs": [],
   "source": [
    "fig1 = figure(figsize = (12, 6))\n",
    "\n",
    "ax = subplot(231)\n",
    "bx = subplot(232)\n",
    "cx = subplot(233)\n",
    "dx = subplot(234)\n",
    "ex = subplot(235)\n",
    "fx = subplot(236)\n",
    "\n",
    "\n",
    "ax[:plot](T1, X1); bx[:plot](T1, Y1); cx[:plot](X1, Y1)\n",
    "# dx[:plot](T2, X2); ex[:plot](T2, Y2); fx[:plot](X2, Y2)\n",
    "\n",
    "ax[:set_xlim](100, 200); bx[:set_xlim](100, 200);\n",
    "dx[:set_xlim](100, 200); ex[:set_xlim](100, 200);\n",
    "\n",
    "ax[:set_xlabel](\"t\"); bx[:set_xlabel](\"t\"); cx[:set_xlabel](\"x(t)\")\n",
    "dx[:set_xlabel](\"t\"); ex[:set_xlabel](\"t\"); fx[:set_xlabel](\"x(t)\")\n",
    "\n",
    "ax[:set_ylabel](\"y\"); bx[:set_ylabel](\"y\"); cx[:set_ylabel](\"y(t)\")\n",
    "dx[:set_ylabel](\"y\"); ex[:set_ylabel](\"y\"); fx[:set_ylabel](\"y(t)\")"
   ]
  },
  {
   "cell_type": "code",
   "execution_count": null,
   "metadata": {
    "collapsed": false
   },
   "outputs": [],
   "source": [
    "plot(T1, E_T)\n",
    "ylim(-5, 5)\n",
    "# plot(T2, E_RK4)"
   ]
  }
 ],
 "metadata": {
  "kernel_info": {
   "name": "julia-0.5"
  },
  "kernelspec": {
   "display_name": "Julia 0.5.2-pre",
   "language": "julia",
   "name": "julia-0.5"
  },
  "language_info": {
   "file_extension": ".jl",
   "mimetype": "application/julia",
   "name": "julia",
   "version": "0.5.2"
  }
 },
 "nbformat": 4,
 "nbformat_minor": 2
}
